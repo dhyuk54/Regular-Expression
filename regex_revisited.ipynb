{
 "cells": [
  {
   "cell_type": "markdown",
   "metadata": {},
   "source": [
    "## Regular Expressions"
   ]
  },
  {
   "cell_type": "code",
   "execution_count": 1,
   "metadata": {},
   "outputs": [],
   "source": [
    "import re"
   ]
  },
  {
   "cell_type": "code",
   "execution_count": 3,
   "metadata": {},
   "outputs": [
    {
     "name": "stdout",
     "output_type": "stream",
     "text": [
      "Enter tel. number: 111-222-3333\n",
      "Number accepted.\n"
     ]
    }
   ],
   "source": [
    "\n",
    "pattern = r'\\d\\d\\d-\\d\\d\\d-\\d\\d\\d\\d'\n",
    "\n",
    "s = input('Enter tel. number: ')\n",
    "if re.match(pattern, s):\n",
    "    print('Number accepted.')\n",
    "else:\n",
    "    print('Incorrect format.')\n"
   ]
  },
  {
   "cell_type": "code",
   "execution_count": 4,
   "metadata": {},
   "outputs": [
    {
     "name": "stdout",
     "output_type": "stream",
     "text": [
      "Enter tel. number: 111-222-3333\n",
      "Number accepted.\n"
     ]
    }
   ],
   "source": [
    "\n",
    "\n",
    "pattern = r'\\d\\d\\d[ -]\\d\\d\\d[ -]\\d\\d\\d\\d$'\n",
    "\n",
    "s = input('Enter tel. number: ')\n",
    "if re.match(pattern, s):\n",
    "   print('Number accepted.')\n",
    "else:\n",
    "   print('Incorrect format.')"
   ]
  },
  {
   "cell_type": "markdown",
   "metadata": {},
   "source": [
    "It must match an end-of-string, $. This means there cannot be any more input in the target string after these last four digits are matched.<br>\n",
    "\n",
    "the use of **fullmatch** makes the end-of-string character unnecessary"
   ]
  },
  {
   "cell_type": "code",
   "execution_count": 7,
   "metadata": {},
   "outputs": [
    {
     "name": "stdout",
     "output_type": "stream",
     "text": [
      "Enter tel. number: 111-222-3333\n",
      "Number accepted.\n"
     ]
    }
   ],
   "source": [
    "pattern = r'\\d\\d\\d[ -]\\d\\d\\d[ -]\\d\\d\\d\\d'\n",
    "\n",
    "s = input('Enter tel. number: ')\n",
    "if re.fullmatch(pattern, s):\n",
    "   print('Number accepted.')\n",
    "else:\n",
    "   print('Incorrect format.')"
   ]
  },
  {
   "cell_type": "markdown",
   "metadata": {},
   "source": [
    "COMPILING VERSUS RUNNING<br>\n",
    "\n",
    "The processing of regular expressions takes two major steps.<br>\n",
    "\n",
    "A regular expression pattern is analyzed and then compiled into a series of data structures collectively called a state machine.<br>\n",
    "\n",
    "The actual process of matching is considered “run time” for the regular-expression evaluator, as opposed to “compile time.” During run time, the program traverses the state machine as it looks for a match.<br>"
   ]
  },
  {
   "cell_type": "code",
   "execution_count": 9,
   "metadata": {},
   "outputs": [],
   "source": [
    "# compile function\n",
    "\n",
    "reg1 = re.compile(r'ca*b$')  # Compile the pattern!\n",
    "\n",
    "def test_item(s):\n",
    "    if re.match(reg1, s):\n",
    "        print(s, 'is a match.')\n",
    "    else:\n",
    "        print(s, 'is not a match!')\n",
    "        "
   ]
  },
  {
   "cell_type": "code",
   "execution_count": 10,
   "metadata": {},
   "outputs": [
    {
     "name": "stdout",
     "output_type": "stream",
     "text": [
      "caab is a match.\n",
      "caaxxb is not a match!\n"
     ]
    }
   ],
   "source": [
    "test_item('caab')\n",
    "test_item('caaxxb')"
   ]
  },
  {
   "cell_type": "code",
   "execution_count": null,
   "metadata": {},
   "outputs": [],
   "source": []
  },
  {
   "cell_type": "code",
   "execution_count": 13,
   "metadata": {},
   "outputs": [
    {
     "name": "stdout",
     "output_type": "stream",
     "text": [
      "Success.\n"
     ]
    }
   ],
   "source": [
    "# IGNORECASE Uppercase\n",
    "\n",
    "\n",
    "if re.match('m*ack', 'Mack the Knife', re.IGNORECASE):\n",
    "    print ('Success.')"
   ]
  },
  {
   "cell_type": "code",
   "execution_count": 14,
   "metadata": {},
   "outputs": [
    {
     "name": "stdout",
     "output_type": "stream",
     "text": [
      "Success.\n"
     ]
    }
   ],
   "source": [
    "# same\n",
    "if re.match('m*ack', 'Mack the Knife', re.I):\n",
    "    print ('Success.')\n",
    "    "
   ]
  },
  {
   "cell_type": "code",
   "execution_count": 16,
   "metadata": {},
   "outputs": [
    {
     "name": "stdout",
     "output_type": "stream",
     "text": [
      "MAX_REPEAT 0 MAXREPEAT\n",
      "  LITERAL 109\n",
      "LITERAL 97\n",
      "LITERAL 99\n",
      "LITERAL 107\n",
      "\n",
      " 0. INFO 4 0b0 3 MAXREPEAT (to 5)\n",
      " 5: REPEAT_ONE 6 0 MAXREPEAT (to 12)\n",
      " 9.   LITERAL_UNI_IGNORE 0x6d ('m')\n",
      "11.   SUCCESS\n",
      "12: LITERAL_UNI_IGNORE 0x61 ('a')\n",
      "14. LITERAL_UNI_IGNORE 0x63 ('c')\n",
      "16. LITERAL_UNI_IGNORE 0x6b ('k')\n",
      "18. SUCCESS\n",
      "Success.\n"
     ]
    }
   ],
   "source": [
    "# summarize searching, matching, compiling,\n",
    "\n",
    "if re.match('m*ack', 'Mack the Knife', re.I | re.DEBUG):\n",
    "    print ('Success.')"
   ]
  },
  {
   "cell_type": "markdown",
   "metadata": {},
   "source": [
    "### Meta Characters"
   ]
  },
  {
   "cell_type": "code",
   "execution_count": 17,
   "metadata": {},
   "outputs": [
    {
     "name": "stdout",
     "output_type": "stream",
     "text": [
      "Success!\n"
     ]
    }
   ],
   "source": [
    "\n",
    "if re.match(r'[+*^/-]', '^'):\n",
    "    print('Success!')"
   ]
  },
  {
   "cell_type": "markdown",
   "metadata": {},
   "source": [
    "### Backtracking, Greedy, and Non-Greedy"
   ]
  },
  {
   "cell_type": "code",
   "execution_count": 23,
   "metadata": {},
   "outputs": [
    {
     "name": "stdout",
     "output_type": "stream",
     "text": [
      "Success!\n"
     ]
    }
   ],
   "source": [
    "pat = r'c.*t'\n",
    "if re.match(pat, 'cat'):\n",
    "    print('Success!')"
   ]
  },
  {
   "cell_type": "markdown",
   "metadata": {},
   "source": [
    "### USING THE MATCH OBJECT"
   ]
  },
  {
   "cell_type": "code",
   "execution_count": 25,
   "metadata": {},
   "outputs": [
    {
     "name": "stdout",
     "output_type": "stream",
     "text": [
      "abbccc\n",
      "a\n",
      "bb\n",
      "ccc\n"
     ]
    }
   ],
   "source": [
    "\n",
    "pat = r'(a+)(b+)(c+)'\n",
    "\n",
    "m = re.match(pat, 'abbcccee')\n",
    "\n",
    "print(m.group(0)) # entire text matched\n",
    "print(m.group(1)) # 1st match\n",
    "print(m.group(2)) # 2nd match\n",
    "print(m.group(3)) # 3rd match"
   ]
  },
  {
   "cell_type": "markdown",
   "metadata": {},
   "source": [
    "### SEARCHING A STRING FOR PATTERNS"
   ]
  },
  {
   "cell_type": "code",
   "execution_count": 26,
   "metadata": {},
   "outputs": [
    {
     "name": "stdout",
     "output_type": "stream",
     "text": [
      "\"23\" found at (9, 11)\n"
     ]
    }
   ],
   "source": [
    "\n",
    "m = re.search(r'\\d{2,}', '1 set of 23 owls, 999 doves.')\n",
    "print('\"', m.group(), '\" found at ', m.span(), sep='')"
   ]
  },
  {
   "cell_type": "markdown",
   "metadata": {},
   "source": [
    "### ITERATIVE SEARCHING (“FINDALL”)"
   ]
  },
  {
   "cell_type": "code",
   "execution_count": 27,
   "metadata": {},
   "outputs": [
    {
     "name": "stdout",
     "output_type": "stream",
     "text": [
      "['1', '23', '999']\n"
     ]
    }
   ],
   "source": [
    "\n",
    "s = '1 set of 23 owls, 999 doves.'\n",
    "print(re.findall(r'\\d+', s))\n"
   ]
  },
  {
   "cell_type": "code",
   "execution_count": 28,
   "metadata": {},
   "outputs": [
    {
     "name": "stdout",
     "output_type": "stream",
     "text": [
      "['1,000.5', '3', '2,000']\n"
     ]
    }
   ],
   "source": [
    "\n",
    "s = 'What is 1,000.5 times 3 times 2,000?'\n",
    "print(re.findall(r'\\d[0-9,.]*', s))\n"
   ]
  },
  {
   "cell_type": "code",
   "execution_count": 29,
   "metadata": {},
   "outputs": [
    {
     "name": "stdout",
     "output_type": "stream",
     "text": [
      "['sophisticated', 'multisyllabic']\n"
     ]
    }
   ],
   "source": [
    "\n",
    "s = 'I do not use sophisticated, multisyllabic words!'\n",
    "print(re.findall(r'\\w{6,}', s))\n"
   ]
  },
  {
   "cell_type": "code",
   "execution_count": 30,
   "metadata": {},
   "outputs": [
    {
     "name": "stdout",
     "output_type": "stream",
     "text": [
      "['12', '15', '+', '3', '100', '-', '*']\n"
     ]
    }
   ],
   "source": [
    "\n",
    "s = '12 15+3 100-*'\n",
    "print(re.findall(r'[+*/-]|\\w+', s))\n"
   ]
  },
  {
   "cell_type": "code",
   "execution_count": 31,
   "metadata": {},
   "outputs": [
    {
     "name": "stdout",
     "output_type": "stream",
     "text": [
      "[(',000', ''), ('', '.5')]\n"
     ]
    }
   ],
   "source": [
    "\n",
    "pat = r'\\d{1,3}(,\\d{3})*(\\.\\d*)?'\n",
    "print(re.findall(pat, '12,000 monkeys and 55.5 cats.'))\n"
   ]
  },
  {
   "cell_type": "markdown",
   "metadata": {},
   "source": [
    "#### carefull while using iter and group"
   ]
  },
  {
   "cell_type": "code",
   "execution_count": 32,
   "metadata": {},
   "outputs": [
    {
     "name": "stdout",
     "output_type": "stream",
     "text": [
      "12,000\n",
      "55.5\n"
     ]
    }
   ],
   "source": [
    "\n",
    "pat = r'(\\d{1,3}(,\\d{3})*(\\.\\d*)?)'\n",
    "lst = re.findall(pat, '12,000 monkeys on 55.5 cats.')\n",
    "for item in lst:\n",
    "    print(item[0])"
   ]
  },
  {
   "cell_type": "markdown",
   "metadata": {},
   "source": [
    "### SEARCHING FOR REPEATED PATTERNS"
   ]
  },
  {
   "cell_type": "code",
   "execution_count": 38,
   "metadata": {},
   "outputs": [
    {
     "name": "stdout",
     "output_type": "stream",
     "text": [
      "the the ...found at (20, 27)\n"
     ]
    }
   ],
   "source": [
    "\n",
    "s = 'The cow jumped over the the moon.'\n",
    "m = re.search(r'(\\w+) \\1', s)\n",
    "print(m.group(), '...found at', m.span())\n"
   ]
  },
  {
   "cell_type": "code",
   "execution_count": 51,
   "metadata": {},
   "outputs": [
    {
     "name": "stdout",
     "output_type": "stream",
     "text": [
      "The The ...found at (0, 7)\n"
     ]
    }
   ],
   "source": [
    "\n",
    "s = 'The The United States of of America'\n",
    "m = re.search(r'(\\w+) \\1', s)\n",
    "print(m.group(), '...found at', m.span()) # first match\n"
   ]
  },
  {
   "cell_type": "code",
   "execution_count": 52,
   "metadata": {},
   "outputs": [
    {
     "name": "stdout",
     "output_type": "stream",
     "text": [
      "The the ...found at (0, 7)\n"
     ]
    }
   ],
   "source": [
    "\n",
    "s = 'The the cow jumped over the the moon '\n",
    "\n",
    "m = re.search(r'(\\w+) \\1', s, flags=re.I)\n",
    "print(m.group(), '...found at', m.span()) # re.search function reports the first successful match that was found.\n"
   ]
  },
  {
   "cell_type": "markdown",
   "metadata": {},
   "source": [
    "### REPLACING TEXT"
   ]
  },
  {
   "cell_type": "code",
   "execution_count": 53,
   "metadata": {},
   "outputs": [
    {
     "name": "stdout",
     "output_type": "stream",
     "text": [
      "Get me a new cat to befriend my cat.\n"
     ]
    }
   ],
   "source": [
    "\n",
    "s = 'Get me a new dog to befriend my dog.'\n",
    "s2 = re.sub('dog', 'cat', s)\n",
    "print(s2)\n"
   ]
  },
  {
   "cell_type": "code",
   "execution_count": 56,
   "metadata": {},
   "outputs": [
    {
     "name": "stdout",
     "output_type": "stream",
     "text": [
      "The cow jumped over the moon\n"
     ]
    }
   ],
   "source": [
    "# remove duplicates\n",
    "\n",
    "s = 'The the cow jumped over over the moon moon'\n",
    "s2 = re.sub(r'(\\w+) \\1', r'\\1', s, flags=re.I)\n",
    "print(s2)\n"
   ]
  },
  {
   "cell_type": "markdown",
   "metadata": {},
   "source": [
    "### Fixing the Tagging Problem"
   ]
  },
  {
   "cell_type": "code",
   "execution_count": 58,
   "metadata": {},
   "outputs": [
    {
     "name": "stdout",
     "output_type": "stream",
     "text": [
      "12,000\n",
      "100\n",
      "53.12\n"
     ]
    }
   ],
   "source": [
    "\n",
    "pat = r'\\d{1,3}(?:,\\d{3})*(?:\\.\\d*)?\\b'\n",
    "s = '12,000 monkeys on 100 typewriters for 53.12 days.'\n",
    "lst = re.findall(pat, s)\n",
    "for item in lst:\n",
    "    print(item)\n",
    "    "
   ]
  },
  {
   "cell_type": "markdown",
   "metadata": {},
   "source": [
    "### GREEDY VERSUS NON-GREEDY MATCHING"
   ]
  },
  {
   "cell_type": "code",
   "execution_count": 60,
   "metadata": {},
   "outputs": [
    {
     "name": "stdout",
     "output_type": "stream",
     "text": [
      "<h1>This is an HTML heading.</h1>\n"
     ]
    }
   ],
   "source": [
    "\n",
    "pat = r'<.*>'\n",
    "the_line = '<h1>This is an HTML heading.</h1>'\n",
    "m = re.match(pat, the_line)\n",
    "print(m.group()) # expected output is <h1>. ERROR\n"
   ]
  },
  {
   "cell_type": "markdown",
   "metadata": {},
   "source": [
    "Greedy ( matches first and last strings ): <.*> <br>\n",
    "Non Greedy ( stops matches when the last character matches) : <.*?> <br>\n",
    "\n",
    "for examples: <br>\n",
    "expr??   # Non-greedy zero-or-one matching<br>\n",
    "expr*?   # Non-greedy zero-or-more matching<br>\n",
    "expr+?   # Non-greedy one-or-more matching<br>"
   ]
  },
  {
   "cell_type": "code",
   "execution_count": 61,
   "metadata": {},
   "outputs": [
    {
     "name": "stdout",
     "output_type": "stream",
     "text": [
      "<h1>\n"
     ]
    }
   ],
   "source": [
    "# non greedy\n",
    "\n",
    "pat = r'<.*?>'     # Use NON-GREEDY matching!\n",
    "the_line = '<h1>This is an HTML heading.</h1>'\n",
    "m = re.match(pat, the_line)\n",
    "print(m.group())"
   ]
  },
  {
   "cell_type": "code",
   "execution_count": 62,
   "metadata": {},
   "outputs": [],
   "source": [
    "\n",
    "s = r'''<h1>This is the first heading.</h1>\n",
    "<h1>This is the second heading.</h1>\n",
    "<b>This is in bold.</b>'''\n"
   ]
  },
  {
   "cell_type": "code",
   "execution_count": 64,
   "metadata": {},
   "outputs": [
    {
     "name": "stdout",
     "output_type": "stream",
     "text": [
      "There are 6 tags.\n"
     ]
    }
   ],
   "source": [
    "\n",
    "pat = r'<.*?>'       # Notice use of NON-GREEDy  because of the ?.\n",
    "lst = re.findall(pat, s, flags=re.DOTALL)\n",
    "print('There are', len(lst), 'tags.')\n"
   ]
  },
  {
   "cell_type": "code",
   "execution_count": 66,
   "metadata": {},
   "outputs": [
    {
     "name": "stdout",
     "output_type": "stream",
     "text": [
      "There are 1 tags.\n"
     ]
    }
   ],
   "source": [
    "pat = r'<.*>'     # Notice use of GREEDY here!\n",
    "lst = re.findall(pat, s, flags=re.DOTALL)\n",
    "print('There are', len(lst), 'tags.') # this is  not a correct one !"
   ]
  },
  {
   "cell_type": "code",
   "execution_count": 67,
   "metadata": {},
   "outputs": [],
   "source": [
    "\n",
    "s = '''Here is a single sentence. Here is\n",
    " another sentence, ending in a period. And\n",
    " here is yet another.'''\n",
    "\n"
   ]
  },
  {
   "cell_type": "code",
   "execution_count": 73,
   "metadata": {},
   "outputs": [
    {
     "name": "stdout",
     "output_type": "stream",
     "text": [
      "There are 3 sentences.\n"
     ]
    }
   ],
   "source": [
    "# [chars]\n",
    "\n",
    "\n",
    "pat = r'.*?[.?!]'  # Notice use of NON-GREEDY because of the first \"?\".\n",
    "\n",
    "lst = re.findall(pat, s, flags=re.DOTALL)\n",
    "print('There are', len(lst), 'sentences.')"
   ]
  },
  {
   "cell_type": "markdown",
   "metadata": {},
   "source": [
    "### THE LOOK-AHEAD FEATURE"
   ]
  },
  {
   "cell_type": "code",
   "execution_count": 74,
   "metadata": {},
   "outputs": [],
   "source": [
    "s = '''See the U.S.A. today. It's right here, not\n",
    " a world away. Average temp. is 66.5.'''"
   ]
  },
  {
   "cell_type": "code",
   "execution_count": 75,
   "metadata": {},
   "outputs": [],
   "source": [
    "\n",
    "pat = r'[A-Z].*?[.!?](?= [A-Z]|$)'\n",
    "m = re.findall(pat, s, flags=re.DOTALL | re.MULTILINE)\n"
   ]
  },
  {
   "cell_type": "code",
   "execution_count": 76,
   "metadata": {},
   "outputs": [
    {
     "name": "stdout",
     "output_type": "stream",
     "text": [
      "-> See the U.S.A. today.\n",
      "-> It's right here, not\n",
      " a world away.\n",
      "-> Average temp. is 66.5.\n"
     ]
    }
   ],
   "source": [
    "for i in m:\n",
    "    print('->', i)"
   ]
  },
  {
   "cell_type": "markdown",
   "metadata": {},
   "source": [
    "### CHECKING MULTIPLE PATTERNS (LOOK-AHEAD)"
   ]
  },
  {
   "cell_type": "code",
   "execution_count": 77,
   "metadata": {},
   "outputs": [],
   "source": [
    "\n",
    "pat1 = r'(\\w|[!@#$%^&*+-]){8,12}$'\n",
    "pat2 = r'(?=.*[a-zA-Z])'      # Must include a letter.\n",
    "pat3 = r'(?=.*\\d)'            # Must include a digit.\n",
    "pat4 = r'(?=.*[!@#$%^&*+-])'  # Must include punc. char.\n",
    "\n",
    "pat = pat2 + pat3 + pat4 + pat1\n"
   ]
  },
  {
   "cell_type": "code",
   "execution_count": 84,
   "metadata": {},
   "outputs": [
    {
     "name": "stdout",
     "output_type": "stream",
     "text": [
      "It passed the test!\n"
     ]
    }
   ],
   "source": [
    "passwd = 'harsaa3#'\n",
    "\n",
    "if re.match(pat, passwd):\n",
    "    print('It passed the test!')\n",
    "else:\n",
    "    print('Insufficiently strong password.')"
   ]
  },
  {
   "cell_type": "markdown",
   "metadata": {},
   "source": [
    "### NEGATIVE "
   ]
  },
  {
   "cell_type": "code",
   "execution_count": 86,
   "metadata": {},
   "outputs": [
    {
     "name": "stdout",
     "output_type": "stream",
     "text": [
      "['abc']\n"
     ]
    }
   ],
   "source": [
    "\n",
    "pat = r'abc(?!abc)'\n",
    "s = 'The magic of abcabc.'\n",
    "m = re.findall(pat, s)\n",
    "print(m)\n"
   ]
  },
  {
   "cell_type": "code",
   "execution_count": 87,
   "metadata": {},
   "outputs": [
    {
     "name": "stdout",
     "output_type": "stream",
     "text": [
      "['ABC']\n"
     ]
    }
   ],
   "source": [
    "\n",
    "pat = r'abc(?!abc)'\n",
    "s = 'The magic of abcABC.'\n",
    "m = re.findall(pat, s, flags=re.I)\n",
    "print(m)\n",
    "\n"
   ]
  },
  {
   "cell_type": "markdown",
   "metadata": {},
   "source": [
    "### NAMED GROUPS<br>\n",
    "(?P<name>expr)  # Tags the matching group, using name.<br>\n",
    "(?P=name)       # Attempt to match repeat of named group."
   ]
  },
  {
   "cell_type": "code",
   "execution_count": 92,
   "metadata": {},
   "outputs": [],
   "source": [
    "pat = r'(?P<first>\\w+) (?P<last>\\w+)'\n",
    "\n"
   ]
  },
  {
   "cell_type": "code",
   "execution_count": 89,
   "metadata": {},
   "outputs": [],
   "source": [
    "s = 'Jane Austen'\n",
    "m = re.match(pat, s)"
   ]
  },
  {
   "cell_type": "code",
   "execution_count": 90,
   "metadata": {},
   "outputs": [
    {
     "name": "stdout",
     "output_type": "stream",
     "text": [
      "first name =  Jane\n",
      "last name =  Austen\n"
     ]
    }
   ],
   "source": [
    "print('first name = ', m.group('first'))\n",
    "print('last name = ', m.group('last'))"
   ]
  },
  {
   "cell_type": "code",
   "execution_count": 91,
   "metadata": {},
   "outputs": [
    {
     "name": "stdout",
     "output_type": "stream",
     "text": [
      "Austen, Jane\n"
     ]
    }
   ],
   "source": [
    "print(m.group('last') + ', ' + m.group('first'))"
   ]
  },
  {
   "cell_type": "code",
   "execution_count": 93,
   "metadata": {},
   "outputs": [],
   "source": [
    "\n",
    "pat = r'(?P<first>\\w+) (?P<mid>\\w\\. )?(?P<last>\\w+)'\n",
    "\n",
    "def reorg_name(in_s):\n",
    "    m = re.match(pat, in_s)\n",
    "    s = m.group('last') + ', ' + m.group('first')\n",
    "    if m.group('mid'):\n",
    "        s += ' ' + m.group('mid')\n",
    "    return s"
   ]
  },
  {
   "cell_type": "code",
   "execution_count": 95,
   "metadata": {},
   "outputs": [
    {
     "data": {
      "text/plain": [
       "'Luck, Jane'"
      ]
     },
     "execution_count": 95,
     "metadata": {},
     "output_type": "execute_result"
    }
   ],
   "source": [
    "reorg_name( \"Jane Luck Austen\")"
   ]
  },
  {
   "cell_type": "markdown",
   "metadata": {},
   "source": [
    "### THE “RE.SPLIT” FUNCTION"
   ]
  },
  {
   "cell_type": "code",
   "execution_count": 98,
   "metadata": {},
   "outputs": [
    {
     "data": {
      "text/plain": [
       "['3', '5', '7', '8', '10', '11']"
      ]
     },
     "execution_count": 98,
     "metadata": {},
     "output_type": "execute_result"
    }
   ],
   "source": [
    "\n",
    "pat = r', *| +'\n",
    "\n",
    "lst = re.split(pat, '3, 5  7 8,10, 11')\n",
    "\n",
    "lst"
   ]
  },
  {
   "cell_type": "code",
   "execution_count": null,
   "metadata": {},
   "outputs": [],
   "source": []
  }
 ],
 "metadata": {
  "kernelspec": {
   "display_name": "Python 3",
   "language": "python",
   "name": "python3"
  },
  "language_info": {
   "codemirror_mode": {
    "name": "ipython",
    "version": 3
   },
   "file_extension": ".py",
   "mimetype": "text/x-python",
   "name": "python",
   "nbconvert_exporter": "python",
   "pygments_lexer": "ipython3",
   "version": "3.7.1"
  }
 },
 "nbformat": 4,
 "nbformat_minor": 2
}
